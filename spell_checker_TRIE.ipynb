{
 "cells": [
  {
   "cell_type": "code",
   "execution_count": null,
   "metadata": {},
   "outputs": [],
   "source": [
    "from TRIE_implementation import *\n",
    "import re\n",
    "import string"
   ]
  },
  {
   "cell_type": "markdown",
   "metadata": {},
   "source": [
    "# Corpus reading"
   ]
  },
  {
   "cell_type": "code",
   "execution_count": null,
   "metadata": {},
   "outputs": [],
   "source": [
    "import requests\n",
    "def download_save(url, name):\n",
    "    r = requests.get(url, stream=True)\n",
    "    print(f'\\n%%%%%% Dataset downloaded %%%%%')\n",
    "    with open(name, 'wb') as f:\n",
    "        f.write(r.content)\n"
   ]
  },
  {
   "cell_type": "code",
   "execution_count": null,
   "metadata": {},
   "outputs": [],
   "source": [
    "name = 'corpus.txt'\n",
    "if(not os.path.exists(f'{os.getcwd()}\\{name}')):\n",
    "   download_save('https://www.ime.usp.br/~pf/dicios/br-utf8.txt', name)"
   ]
  },
  {
   "cell_type": "code",
   "execution_count": null,
   "metadata": {},
   "outputs": [],
   "source": [
    "def read_corpus(filename):\n",
    "  with open(filename, \"r\", encoding=\"utf8\") as file:\n",
    "    lines = file.readlines()\n",
    "    words = []\n",
    "    for line in lines:\n",
    "      words += re.findall(r'\\w+', line.lower())\n",
    "  return words"
   ]
  },
  {
   "cell_type": "code",
   "execution_count": null,
   "metadata": {},
   "outputs": [],
   "source": [
    "words = read_corpus(name)"
   ]
  },
  {
   "cell_type": "markdown",
   "metadata": {},
   "source": [
    "## Initiate TRIE node with the corpus"
   ]
  },
  {
   "cell_type": "code",
   "execution_count": null,
   "metadata": {},
   "outputs": [],
   "source": [
    "root = TrieNode('*')\n",
    "for word in set(words):\n",
    "    add(root,word)"
   ]
  },
  {
   "cell_type": "markdown",
   "metadata": {},
   "source": [
    "## Example of suggestion of words on the TRIE based on a prefix"
   ]
  },
  {
   "cell_type": "code",
   "execution_count": null,
   "metadata": {},
   "outputs": [],
   "source": [
    "\n",
    "exist, radical, n = find_prefix(root, 'abs')\n",
    "a = suggestions_trie(radical, 'abs', [])\n",
    "print(f'Numero de sugestoes: {len(a)}; \\n {a}')"
   ]
  },
  {
   "cell_type": "markdown",
   "metadata": {},
   "source": [
    "# Types of mispelling"
   ]
  },
  {
   "cell_type": "code",
   "execution_count": null,
   "metadata": {},
   "outputs": [],
   "source": [
    "def split(word):\n",
    "  return [(word[:i], word[i:]) for i in range(len(word) + 1)]"
   ]
  },
  {
   "cell_type": "code",
   "execution_count": null,
   "metadata": {},
   "outputs": [],
   "source": [
    "def delete(word):\n",
    "  return [l + r[1:] for l,r in split(word) if r]"
   ]
  },
  {
   "cell_type": "code",
   "execution_count": null,
   "metadata": {},
   "outputs": [],
   "source": [
    "def swap(word):\n",
    "  return [l + r[1] + r[0] + r[2:] for l, r in split(word) if len(r)>1]"
   ]
  },
  {
   "cell_type": "code",
   "execution_count": null,
   "metadata": {},
   "outputs": [],
   "source": [
    "def replace(word):\n",
    "  letters = string.ascii_lowercase\n",
    "  return [l + c + r[1:] for l, r in split(word) if r for c in letters]"
   ]
  },
  {
   "cell_type": "code",
   "execution_count": null,
   "metadata": {},
   "outputs": [],
   "source": [
    "def insert(word):\n",
    "  letters = string.ascii_lowercase\n",
    "  return [l + c + r for l, r in split(word) for c in letters]"
   ]
  },
  {
   "cell_type": "code",
   "execution_count": null,
   "metadata": {},
   "outputs": [],
   "source": [
    "def mod1(word):\n",
    "  return set(delete(word) + swap(word) + replace(word) + insert(word))"
   ]
  },
  {
   "cell_type": "code",
   "execution_count": null,
   "metadata": {},
   "outputs": [],
   "source": [
    "def mod2(word):\n",
    "  return set(e2 for e1 in mod1(word) for e2 in mod1(e1))"
   ]
  },
  {
   "cell_type": "code",
   "execution_count": null,
   "metadata": {},
   "outputs": [],
   "source": [
    "def correct_spelling(root, word):\n",
    "  exist_in_trie , radical, _ = find_prefix(root, word) ## search Trie to find the word\n",
    "  if exist_in_trie:\n",
    "    if radical.word_finished:\n",
    "      print(f\"{word} is already correctly spelt\")\n",
    "      return word\n",
    "\n",
    "  # suggestions = [mod1(word) or mod2(word) or [word]\n",
    "  suggestions = mod1(word) or mod2(word) # | set([word]) unnecessary given that the word is already correctly spelt\n",
    "  best_guesses = []\n",
    "  exist_in_trie , radical, _ = find_prefix(root, word[0]) ## search Trie to find the word\n",
    "  word_rad = word[0]\n",
    "  \n",
    "  # for word_rad in split(word)[1::]: #toma a maior parte da palavra que ainda está na trie; primeiro elemento do split é (\"\", word)\n",
    "  #   print(f\"WordRad: {word_rad}\")\n",
    "  #   exist_in_trie , radical, _ = find_prefix(root, word_rad[0]) ## search Trie to find the word\n",
    "  #   if(exist_in_trie and not find_prefix(root, word_rad[1][0])[0]): #radical pertence a arvore e radical+proxima_letra nao pertence a TRIE\n",
    "  #     word = word_rad[0]\n",
    "  #     break\n",
    "    \n",
    "  if(radical is not None):\n",
    "    trie_suggestions = suggestions_trie(radical, word_rad, [])\n",
    "    best_guesses = [w for w in suggestions if w in trie_suggestions]\n",
    "    if(best_guesses == []):\n",
    "      return word\n",
    "  return best_guesses"
   ]
  },
  {
   "cell_type": "markdown",
   "metadata": {},
   "source": [
    "# REAL TEST"
   ]
  },
  {
   "cell_type": "code",
   "execution_count": null,
   "metadata": {},
   "outputs": [],
   "source": [
    "sentences = [\" As feramentas tradicionais de negócios não são capases de processar uma enorme quantdade de dados não estruturados. Dessa forma, a ciência de dados oferece soluções mais avançadas para analisar grandes volumes de informações provenientes de diferentes tipos de fontes, como registros financeiros, arquivos multimídia, formulários de marketing, sensores, instrumentos e arquivos de texto.\",\n",
    "            'Este e umm tsto qe demonstra cmo o algoritimo funciona', \n",
    "            'O Pojeto Acadêmico da UFABC pocura levar em conta as mudancas no canpo da ciênsia, propondo uma matris interdicipinar']"
   ]
  },
  {
   "cell_type": "code",
   "execution_count": null,
   "metadata": {},
   "outputs": [],
   "source": [
    "def spell_check(sentence):\n",
    "    for word in re.split('(\\W)', sentence.lower()):\n",
    "        if word in \",.?!<>\":\n",
    "            print(word, end=\"\")\n",
    "        elif word == ' ':\n",
    "            print(\" \", end='')\n",
    "        elif(find_prefix(root, word)[0]): # palavra correta, na TRIE\n",
    "            print(word, end='')\n",
    "        else:\n",
    "            print(correct_spelling(root, word),  end='')\n",
    "    print('\\n')"
   ]
  },
  {
   "cell_type": "code",
   "execution_count": null,
   "metadata": {},
   "outputs": [],
   "source": [
    "for sentence in sentences:\n",
    "    spell_check(sentence)"
   ]
  }
 ],
 "metadata": {
  "interpreter": {
   "hash": "ab01566e38027e0b1620fc9cb834a6cd27bd59ea1bdcdfb5c3173eb3072ee9b3"
  },
  "kernelspec": {
   "display_name": "Python 3.9.6 64-bit ('bci-sckit': conda)",
   "language": "python",
   "name": "python3"
  },
  "language_info": {
   "codemirror_mode": {
    "name": "ipython",
    "version": 3
   },
   "file_extension": ".py",
   "mimetype": "text/x-python",
   "name": "python",
   "nbconvert_exporter": "python",
   "pygments_lexer": "ipython3",
   "version": "3.9.6"
  },
  "orig_nbformat": 4
 },
 "nbformat": 4,
 "nbformat_minor": 2
}
